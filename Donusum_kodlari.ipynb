{
 "cells": [
  {
   "cell_type": "code",
   "execution_count": 14,
   "id": "06bac0bc",
   "metadata": {},
   "outputs": [],
   "source": [
    "import pandas as pd\n",
    "import numpy as np"
   ]
  },
  {
   "cell_type": "code",
   "execution_count": 15,
   "id": "d43987aa",
   "metadata": {},
   "outputs": [],
   "source": [
    "link1 = \"https://raw.githubusercontent.com/MuhammetRidvanInce/SHM/main/2012_arz_tablosu.csv\"\n",
    "link2 = \"https://raw.githubusercontent.com/MuhammetRidvanInce/SHM/main/2012_yurtici_kullanim_tablosu.csv\"\n",
    "link3 = \"https://raw.githubusercontent.com/MuhammetRidvanInce/SHM/main/2012_ithalat_kullanim_tablosu.csv\"\n",
    "link4 = \"https://raw.githubusercontent.com/MuhammetRidvanInce/SHM/main/2012_vergi_tablosu.csv\"\n",
    "\n",
    "supplytable = pd.read_csv(link1, index_col = \"index\")\n",
    "domusetable = pd.read_csv(link2, index_col = \"index\")\n",
    "importusetable = pd.read_csv(link3, index_col = \"index\")\n",
    "taxtable = pd.read_csv(link4, index_col = \"index\")"
   ]
  },
  {
   "cell_type": "markdown",
   "id": "0f72369e",
   "metadata": {},
   "source": [
    "# Arz Tablosu"
   ]
  },
  {
   "cell_type": "code",
   "execution_count": 16,
   "id": "3db52dbb",
   "metadata": {},
   "outputs": [],
   "source": [
    "Vt_df = supplytable.loc[\"Urun_1\":\"Urun_64\", \"Sek_1\": \"Sek_64\"]\n",
    "Vt    = Vt_df.to_numpy()\n",
    "V     = np.transpose(Vt)\n",
    "x_df   = supplytable[\"Toplam Uretim\"]\n",
    "x      = x_df.to_numpy()[:-1]\n",
    "xt     = np.transpose(x)\n",
    "x_diag = np.diag(x)"
   ]
  },
  {
   "cell_type": "markdown",
   "id": "f2e77b58",
   "metadata": {},
   "source": [
    "# Dönüşüm Tablosu"
   ]
  },
  {
   "cell_type": "code",
   "execution_count": 17,
   "id": "b9705873",
   "metadata": {},
   "outputs": [],
   "source": [
    "D = V.dot(np.linalg.inv(x_diag))"
   ]
  },
  {
   "cell_type": "markdown",
   "id": "e4df30c1",
   "metadata": {},
   "source": [
    "# Yurtiçi/ İthal Kullanım ve Vergi Tablosu"
   ]
  },
  {
   "cell_type": "code",
   "execution_count": 18,
   "id": "45176219",
   "metadata": {},
   "outputs": [],
   "source": [
    "Ud_df = domusetable.loc[\"Urun_1\":\"Urun_64\", \"Sek_1\": \"Sek_64\"]\n",
    "Ud = Ud_df.to_numpy()"
   ]
  },
  {
   "cell_type": "code",
   "execution_count": 19,
   "id": "baebdd0e",
   "metadata": {},
   "outputs": [],
   "source": [
    "Yd_df = domusetable.loc[\"Urun_1\":\"Urun_64\", \"Hanehalkı\": \"İhracat\"]\n",
    "Yd = Yd_df.to_numpy()"
   ]
  },
  {
   "cell_type": "code",
   "execution_count": 20,
   "id": "909f0804",
   "metadata": {},
   "outputs": [],
   "source": [
    "Um_df = importusetable.loc[\"Urun_1\":\"Urun_64\", \"Sek_1\": \"Sek_64\"]\n",
    "Um = Um_df.to_numpy()"
   ]
  },
  {
   "cell_type": "code",
   "execution_count": 21,
   "id": "283711e4",
   "metadata": {},
   "outputs": [],
   "source": [
    "Ym_df = importusetable.loc[\"Urun_1\":\"Urun_64\", \"Hanehalkı\": \"İhracat\"]\n",
    "Ym    = Ym_df.to_numpy()"
   ]
  },
  {
   "cell_type": "code",
   "execution_count": 22,
   "id": "18f05ca0",
   "metadata": {},
   "outputs": [],
   "source": [
    "tax_industry_df = taxtable.loc[\"Urun_1\":\"Urun_64\", \"Sek_1\": \"Sek_64\"]\n",
    "tax_industry    = tax_industry_df.to_numpy()"
   ]
  },
  {
   "cell_type": "code",
   "execution_count": 23,
   "id": "f8006080",
   "metadata": {},
   "outputs": [],
   "source": [
    "tax_final_df = taxtable.loc[\"Urun_1\":\"Urun_64\", \"Hanehalkı\": \"İhracat\"]\n",
    "tax_final    = tax_final_df.to_numpy()"
   ]
  },
  {
   "cell_type": "code",
   "execution_count": 24,
   "id": "8b923409",
   "metadata": {},
   "outputs": [],
   "source": [
    "total_tax_df = pd.concat([tax_industry_df, tax_final_df], axis = 1)\n",
    "total_tax = total_tax_df.to_numpy()\n"
   ]
  },
  {
   "cell_type": "markdown",
   "id": "5de45f5f",
   "metadata": {},
   "source": [
    "# Sonuçlar"
   ]
  },
  {
   "cell_type": "code",
   "execution_count": 25,
   "id": "89689774",
   "metadata": {},
   "outputs": [],
   "source": [
    "Bd = D.dot(Ud)\n",
    "Bm = D.dot(Um)\n",
    "Fd = D.dot(Yd)\n",
    "Fm = D.dot(Ym)\n",
    "industrytax = D.dot(tax_industry)\n",
    "finaltax = D.dot(tax_final)"
   ]
  },
  {
   "cell_type": "code",
   "execution_count": 26,
   "id": "1af9d725",
   "metadata": {},
   "outputs": [],
   "source": [
    "wage    = domusetable.loc[\"Ücret\", \"Sek_1\": \"Sek_64\"].to_numpy()\n",
    "capital = domusetable.loc[\"İşletme Artığı\", \"Sek_1\": \"Sek_64\"].to_numpy()\n",
    "production_tax = domusetable.loc[\"Üretim Üzerindeki Vergi\", \"Sek_1\": \"Sek_64\"].to_numpy()\n",
    "subsidies = domusetable.loc[\"Üretim Üzerindeki Sübvansiyon\", \"Sek_1\": \"Sek_64\"].to_numpy() "
   ]
  },
  {
   "cell_type": "markdown",
   "id": "a485d383",
   "metadata": {},
   "source": [
    "# 64/64 SHM Oluşturma"
   ]
  },
  {
   "cell_type": "code",
   "execution_count": 27,
   "id": "d674cd48",
   "metadata": {},
   "outputs": [],
   "source": [
    "SAM = pd.DataFrame(0, index = domusetable.columns.to_list()[0:64] + [\"EMEK\", \"SERMAYE\", \"GELİR VERGİSİ\", \n",
    "                                                          \"SEKTÖR ÜRÜN VERGİ\", \"ÜRETİM VERGİ\",\n",
    "                                                         \"ÜRETİM SÜBVANSİYON\", \"HANEHALKI\", \"DEVLET\",\n",
    "                                                         \"TASARRUF\", \"DIŞ DÜNYA (İTHALAT)\", \"TOPLAM\"],\n",
    "                  columns = domusetable.columns.to_list()[0:64] + [\"EMEK\", \"SERMAYE\", \"GELİR VERGİSİ\", \n",
    "                                                          \"SEKTÖR ÜRÜN VERGİ\", \"ÜRETİM VERGİ\",\n",
    "                                                         \"ÜRETİM SÜBVANSİYON\", \"HANEHALKI\", \"DEVLET\",\n",
    "                                                         \"YATIRIM\", \"DIŞ DÜNYA (İHRACAT)\", \"TOPLAM\"])"
   ]
  },
  {
   "cell_type": "code",
   "execution_count": 28,
   "id": "e45a6b9d",
   "metadata": {},
   "outputs": [],
   "source": [
    "SAM.loc[\"Sek_1\":\"Sek_64\",\"Sek_1\":\"Sek_64\"] = Bd + industrytax \n",
    "SAM.loc[\"Sek_1\":\"Sek_64\",\"HANEHALKI\":\"DIŞ DÜNYA (İHRACAT)\"] = Fd + Fm + finaltax \n",
    "SAM.loc[\"EMEK\":\"SERMAYE\",\"Sek_1\":\"Sek_64\"] = np.array((wage, capital))\n",
    "SAM.loc[\"SEKTÖR ÜRÜN VERGİ\", \"Sek_1\":\"Sek_64\"] = np.sum(np.concatenate((industrytax, finaltax), axis = 1), axis = 1)\n",
    "SAM.loc[\"ÜRETİM VERGİ\":\"ÜRETİM SÜBVANSİYON\", \"Sek_1\":\"Sek_64\"] = np.array((production_tax, subsidies))\n",
    "SAM.loc[\"DIŞ DÜNYA (İTHALAT)\", \"Sek_1\":\"Sek_64\"] = np.sum(Bm, axis = 0) + np.sum(Fm, axis = 1)\n",
    "SAM.loc[\"TOPLAM\"] = np.sum(SAM)\n",
    "SAM[\"TOPLAM\"] = np.sum(SAM, axis = 1)"
   ]
  },
  {
   "cell_type": "code",
   "execution_count": 29,
   "id": "57e54b5e",
   "metadata": {},
   "outputs": [],
   "source": [
    "SAM.to_excel(\"SHM_Baslangic.xlsx\")"
   ]
  },
  {
   "cell_type": "markdown",
   "id": "975b7628",
   "metadata": {},
   "source": [
    "# 5 Sektör üzerinden SHM Toplulaştırma"
   ]
  },
  {
   "cell_type": "code",
   "execution_count": 30,
   "id": "6f0ee6c0",
   "metadata": {},
   "outputs": [],
   "source": [
    "link5 = \"https://raw.githubusercontent.com/MuhammetRidvanInce/SHM/main/2012_toplulastirma_tablosu.csv\"\n",
    "agregatevector = pd.read_csv(link5, index_col = \"SIRA\").iloc[:,4]\n",
    "aux_SAM = pd.DataFrame(SAM.to_numpy(),\n",
    "                      index   =agregatevector.to_list() + [\"EMEK\", \"SERMAYE\", \"GELİR VERGİSİ\", \n",
    "                                                          \"SEKTÖR ÜRÜN VERGİ\", \"ÜRETİM VERGİ\",\n",
    "                                                         \"ÜRETİM SÜBVANSİYON\", \"HANEHALKI\", \"DEVLET\",\n",
    "                                                         \"TASARRUF\", \"DIŞ DÜNYA (İTHALAT)\", \"TOPLAM\"],\n",
    "                      columns = agregatevector.to_list() + [\"EMEK\", \"SERMAYE\", \"GELİR VERGİSİ\", \n",
    "                                                          \"SEKTÖR ÜRÜN VERGİ\", \"ÜRETİM VERGİ\",\n",
    "                                                         \"ÜRETİM SÜBVANSİYON\", \"HANEHALKI\", \"DEVLET\",\n",
    "                                                         \"YATIRIM\", \"DIŞ DÜNYA (İHRACAT)\", \"TOPLAM\"])"
   ]
  },
  {
   "cell_type": "code",
   "execution_count": 31,
   "id": "3b8fb6b0",
   "metadata": {},
   "outputs": [],
   "source": [
    "SAM2 = pd.DataFrame(0, index = [\"TARIM\", \"TİCARET VE HİZMET\", \"ULAŞIM\", \"İNŞAAT\", \"SANAYİ\", \n",
    "                            \"EMEK\", \"SERMAYE\", \"GELİR VERGİSİ\", \"SEKTÖR ÜRÜN VERGİ\", \"ÜRETİM VERGİ\",\n",
    "                            \"ÜRETİM SÜBVANSİYON\", \"HANEHALKI\", \"DEVLET\",\n",
    "                            \"TASARRUF\", \"DIŞ DÜNYA (İTHALAT)\", \"TOPLAM\"],\n",
    "                    \n",
    "                   columns = [\"TARIM\", \"TİCARET VE HİZMET\", \"ULAŞIM\", \"İNŞAAT\", \"SANAYİ\",\n",
    "                             \"EMEK\", \"SERMAYE\", \"GELİR VERGİSİ\", \"SEKTÖR ÜRÜN VERGİ\", \"ÜRETİM VERGİ\",\n",
    "                             \"ÜRETİM SÜBVANSİYON\", \"HANEHALKI\",  \"DEVLET\",\n",
    "                             \"YATIRIM\", \"DIŞ DÜNYA (İHRACAT)\", \"TOPLAM\"])"
   ]
  },
  {
   "cell_type": "code",
   "execution_count": 32,
   "id": "8c802cb1",
   "metadata": {},
   "outputs": [],
   "source": [
    "for row in aux_SAM.index:\n",
    "    for col in aux_SAM.columns:\n",
    "         SAM2.loc[row, col] = np.sum(np.sum(aux_SAM.loc[row, col]))"
   ]
  },
  {
   "cell_type": "code",
   "execution_count": 33,
   "id": "f4e09f07",
   "metadata": {},
   "outputs": [],
   "source": [
    "SAM2.to_excel(\"SHM_baslangic_Toplulastirilmis.xlsx\")"
   ]
  },
  {
   "cell_type": "code",
   "execution_count": null,
   "id": "085c855c",
   "metadata": {},
   "outputs": [],
   "source": []
  }
 ],
 "metadata": {
  "kernelspec": {
   "display_name": "Python 3 (ipykernel)",
   "language": "python",
   "name": "python3"
  },
  "language_info": {
   "codemirror_mode": {
    "name": "ipython",
    "version": 3
   },
   "file_extension": ".py",
   "mimetype": "text/x-python",
   "name": "python",
   "nbconvert_exporter": "python",
   "pygments_lexer": "ipython3",
   "version": "3.9.13"
  }
 },
 "nbformat": 4,
 "nbformat_minor": 5
}
